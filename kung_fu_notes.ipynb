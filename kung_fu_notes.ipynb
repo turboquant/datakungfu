{
 "cells": [
  {
   "cell_type": "markdown",
   "metadata": {},
   "source": [
    "# Data Kung Fu with Pandas\n",
    "\n",
    "![Title Image](img/po.png)\n",
    "\n",
    "### Quick Note\n",
    "If you are absolutely brand new to Python, check out the sugggested links on the PyLadies meetup details:<br>\n",
    "https://www.python.org/about/gettingstarted/ <br>\n",
    "https://www.codecademy.com/learn/python\n",
    "\n",
    "You'll still be able to follow along so no worries :)\n",
    "\n",
    "### Objectives\n",
    "\n",
    "By the end of this tutorial, you'll be able to:\n",
    "\n",
    "- install Anaconda\n",
    "- launch, run, and modify a Jupyter notebook\n",
    "- use Python and Pandas to analyse a dataset of Hotel Receipts"
   ]
  },
  {
   "cell_type": "markdown",
   "metadata": {},
   "source": [
    "## Setup Instructions\n",
    "\n",
    "The follwing instructions assume that you have little to no experience using GitHub or Jupyter. In that case, you are probably viewing this document on [GitHub.com](https://github.com/). That's fine for *viewing* purposes, but if you want to be able to *run* the code in this document, you'll have to do some extra work. See the instructions below:\n",
    "\n",
    "__Prep your computer:__\n",
    "\n",
    "1. Install Anaconda (if you haven't already). See: https://www.continuum.io/downloads\n",
    "1. Download our starter code:\n",
    "    1. Go to https://github.com/turboquant/kungfu\n",
    "    2. Click \"Download ZIP\".\n",
    "    3. Save and unzip the file (and take note of where you saved it).\n",
    "\n",
    "__Load our starter code using Jupyter:__\n",
    "\n",
    "1. Launch Jupyter. There are two ways to do this:\n",
    "    1. If you're confortable in the terminal, run the command `jupyter notebook`\n",
    "    2. Otherwise, use `Anaconda Navigator` to launch Jupyter.\n",
    "2. Using the Jupyter window that opens in your browser, navigate to where you saved & unzipped the starter code.\n",
    "3. Click on THIS notebook to open it. You should now see this notebook on your own computer screen!\n",
    "\n",
    "__Begin Programming!__\n",
    "\n",
    "Congrats! You are now ready to run the code in this notebook! Continue below by reading every English sentence and running every cell of code.\n",
    "\n",
    "Ok, Let's get started."
   ]
  },
  {
   "cell_type": "markdown",
   "metadata": {},
   "source": [
    "## Loading up the tools we'll need."
   ]
  },
  {
   "cell_type": "code",
   "execution_count": 1,
   "metadata": {
    "collapsed": true
   },
   "outputs": [],
   "source": [
    "# Any line after a hash (#) is recognized as a comment in Python.\n",
    "\n",
    "# Pandas is the \"Python Data Analysis Library\". We use it for loading data from disk and\n",
    "# for manipulating and printing data, plus we're loading an additional tool called scatter_matrix\n",
    "import pandas as pd\n",
    "from pandas.tools.plotting import scatter_matrix\n",
    "\n",
    "# matplotlib is used for...you guessed it: plotting!\n",
    "import matplotlib.pyplot as plt\n",
    "\n",
    "# This next line is a Jupyter directive. It tells Jupyter that we want our plots to show\n",
    "# up right below the code that creates them.\n",
    "%matplotlib inline"
   ]
  },
  {
   "cell_type": "markdown",
   "metadata": {},
   "source": [
    "Pandas by default will not print every column in our data if there are A LOT of columns.<br> For this notebook, we would prefer that Pandas print all the columns no matter what, so let's tell Pandas our wishes:"
   ]
  },
  {
   "cell_type": "code",
   "execution_count": 2,
   "metadata": {
    "collapsed": true
   },
   "outputs": [],
   "source": [
    "pd.set_option('display.max_columns', None)"
   ]
  },
  {
   "cell_type": "markdown",
   "metadata": {},
   "source": [
    "## Let's read some data!\n",
    "\n",
    "This data was obtained from https://data.texas.gov\n",
    "(and trimmed a bit for this tutorial)."
   ]
  },
  {
   "cell_type": "code",
   "execution_count": 3,
   "metadata": {
    "collapsed": true
   },
   "outputs": [],
   "source": [
    "raw_dataframe = pd.read_csv(\"data/mydata.csv\")"
   ]
  },
  {
   "cell_type": "markdown",
   "metadata": {},
   "source": [
    "Nice! We have data. Now let's look at it!\n",
    "\n",
    "Pandas makes it easy to peek into your data and see what you have. The first step in any data project is to get to know your data.\n",
    "\n",
    "Let's start by looking at the first 3 rows of data. That's easy to do using the `head()` method on our DataFrame. Let's put a 3 in the parenthesis to limit the rows returned to 3."
   ]
  },
  {
   "cell_type": "code",
   "execution_count": 4,
   "metadata": {
    "collapsed": false
   },
   "outputs": [
    {
     "data": {
      "text/html": [
       "<div>\n",
       "<table border=\"1\" class=\"dataframe\">\n",
       "  <thead>\n",
       "    <tr style=\"text-align: right;\">\n",
       "      <th></th>\n",
       "      <th>Month</th>\n",
       "      <th>Year</th>\n",
       "      <th>Taxpayer Number</th>\n",
       "      <th>Taxpayer Name</th>\n",
       "      <th>Taxpayer Address</th>\n",
       "      <th>Taxpayer City</th>\n",
       "      <th>Taxpayer State</th>\n",
       "      <th>Taxpayer Zip</th>\n",
       "      <th>Taxpayer County</th>\n",
       "      <th>Outlet Number</th>\n",
       "      <th>Location Name</th>\n",
       "      <th>Location Address</th>\n",
       "      <th>Location City</th>\n",
       "      <th>Location State</th>\n",
       "      <th>Location Zip</th>\n",
       "      <th>Location County</th>\n",
       "      <th>Location Room Capacity</th>\n",
       "      <th>Location Tot Room Receipts</th>\n",
       "      <th>Location Taxable Receipts</th>\n",
       "      <th>Taxpayer Geolocation</th>\n",
       "      <th>Location Geolocation</th>\n",
       "    </tr>\n",
       "  </thead>\n",
       "  <tbody>\n",
       "    <tr>\n",
       "      <th>0</th>\n",
       "      <td>7</td>\n",
       "      <td>2015</td>\n",
       "      <td>32009496855</td>\n",
       "      <td>MARCUS C STARKEY</td>\n",
       "      <td>PO BOX 1780</td>\n",
       "      <td>PORT ARANSAS</td>\n",
       "      <td>TX</td>\n",
       "      <td>78373.0</td>\n",
       "      <td>178</td>\n",
       "      <td>155</td>\n",
       "      <td>(PB 114) TERRY L CARTER</td>\n",
       "      <td>2012 HWY 361 #114</td>\n",
       "      <td>PORT ARANSAS</td>\n",
       "      <td>TX</td>\n",
       "      <td>78373</td>\n",
       "      <td>178.0</td>\n",
       "      <td>1</td>\n",
       "      <td>$6010.00</td>\n",
       "      <td>$6010.00</td>\n",
       "      <td>PO BOX 1780\\nPORT ARANSAS, TX 78373\\n</td>\n",
       "      <td>2012 HWY 361 #114\\nPORT ARANSAS, TX 78373\\n</td>\n",
       "    </tr>\n",
       "    <tr>\n",
       "      <th>1</th>\n",
       "      <td>7</td>\n",
       "      <td>2015</td>\n",
       "      <td>32009496855</td>\n",
       "      <td>MARCUS C STARKEY</td>\n",
       "      <td>PO BOX 1780</td>\n",
       "      <td>PORT ARANSAS</td>\n",
       "      <td>TX</td>\n",
       "      <td>78373.0</td>\n",
       "      <td>178</td>\n",
       "      <td>156</td>\n",
       "      <td>(PB 205) LARRY OR VICKY MURPHY</td>\n",
       "      <td>2012 HWY 361 # 205</td>\n",
       "      <td>PORT ARANSAS</td>\n",
       "      <td>TX</td>\n",
       "      <td>78373</td>\n",
       "      <td>178.0</td>\n",
       "      <td>1</td>\n",
       "      <td>$9855.00</td>\n",
       "      <td>$9855.00</td>\n",
       "      <td>PO BOX 1780\\nPORT ARANSAS, TX 78373\\n</td>\n",
       "      <td>2012 HWY 361 # 205\\nPORT ARANSAS, TX 78373\\n</td>\n",
       "    </tr>\n",
       "    <tr>\n",
       "      <th>2</th>\n",
       "      <td>7</td>\n",
       "      <td>2015</td>\n",
       "      <td>32009496855</td>\n",
       "      <td>MARCUS C STARKEY</td>\n",
       "      <td>PO BOX 1780</td>\n",
       "      <td>PORT ARANSAS</td>\n",
       "      <td>TX</td>\n",
       "      <td>78373.0</td>\n",
       "      <td>178</td>\n",
       "      <td>194</td>\n",
       "      <td>(PB101) STEVEN AND MARY MORGAN</td>\n",
       "      <td>2012 HWY 361 #101</td>\n",
       "      <td>PORT ARANSAS</td>\n",
       "      <td>TX</td>\n",
       "      <td>78373</td>\n",
       "      <td>178.0</td>\n",
       "      <td>1</td>\n",
       "      <td>$9425.00</td>\n",
       "      <td>$9425.00</td>\n",
       "      <td>PO BOX 1780\\nPORT ARANSAS, TX 78373\\n</td>\n",
       "      <td>2012 HWY 361 #101\\nPORT ARANSAS, TX 78373\\n</td>\n",
       "    </tr>\n",
       "  </tbody>\n",
       "</table>\n",
       "</div>"
      ],
      "text/plain": [
       "   Month  Year  Taxpayer Number     Taxpayer Name Taxpayer Address  \\\n",
       "0      7  2015      32009496855  MARCUS C STARKEY      PO BOX 1780   \n",
       "1      7  2015      32009496855  MARCUS C STARKEY      PO BOX 1780   \n",
       "2      7  2015      32009496855  MARCUS C STARKEY      PO BOX 1780   \n",
       "\n",
       "  Taxpayer City Taxpayer State  Taxpayer Zip  Taxpayer County  Outlet Number  \\\n",
       "0  PORT ARANSAS             TX       78373.0              178            155   \n",
       "1  PORT ARANSAS             TX       78373.0              178            156   \n",
       "2  PORT ARANSAS             TX       78373.0              178            194   \n",
       "\n",
       "                    Location Name    Location Address Location City  \\\n",
       "0         (PB 114) TERRY L CARTER   2012 HWY 361 #114  PORT ARANSAS   \n",
       "1  (PB 205) LARRY OR VICKY MURPHY  2012 HWY 361 # 205  PORT ARANSAS   \n",
       "2  (PB101) STEVEN AND MARY MORGAN   2012 HWY 361 #101  PORT ARANSAS   \n",
       "\n",
       "  Location State  Location Zip  Location County  Location Room Capacity  \\\n",
       "0             TX         78373            178.0                       1   \n",
       "1             TX         78373            178.0                       1   \n",
       "2             TX         78373            178.0                       1   \n",
       "\n",
       "  Location Tot Room Receipts Location Taxable Receipts  \\\n",
       "0                   $6010.00                  $6010.00   \n",
       "1                   $9855.00                  $9855.00   \n",
       "2                   $9425.00                  $9425.00   \n",
       "\n",
       "                    Taxpayer Geolocation  \\\n",
       "0  PO BOX 1780\\nPORT ARANSAS, TX 78373\\n   \n",
       "1  PO BOX 1780\\nPORT ARANSAS, TX 78373\\n   \n",
       "2  PO BOX 1780\\nPORT ARANSAS, TX 78373\\n   \n",
       "\n",
       "                           Location Geolocation  \n",
       "0   2012 HWY 361 #114\\nPORT ARANSAS, TX 78373\\n  \n",
       "1  2012 HWY 361 # 205\\nPORT ARANSAS, TX 78373\\n  \n",
       "2   2012 HWY 361 #101\\nPORT ARANSAS, TX 78373\\n  "
      ]
     },
     "execution_count": 4,
     "metadata": {},
     "output_type": "execute_result"
    }
   ],
   "source": [
    "raw_dataframe.head(3)"
   ]
  },
  {
   "cell_type": "markdown",
   "metadata": {},
   "source": [
    "Looks good at first glance. We'll dig in more later, but first let's ask Pandas to give us info about the datatype of each columns:"
   ]
  },
  {
   "cell_type": "code",
   "execution_count": 5,
   "metadata": {
    "collapsed": false
   },
   "outputs": [
    {
     "name": "stdout",
     "output_type": "stream",
     "text": [
      "<class 'pandas.core.frame.DataFrame'>\n",
      "RangeIndex: 17977 entries, 0 to 17976\n",
      "Data columns (total 21 columns):\n",
      "Month                         17977 non-null int64\n",
      "Year                          17977 non-null int64\n",
      "Taxpayer Number               17977 non-null int64\n",
      "Taxpayer Name                 17977 non-null object\n",
      "Taxpayer Address              17977 non-null object\n",
      "Taxpayer City                 17977 non-null object\n",
      "Taxpayer State                17975 non-null object\n",
      "Taxpayer Zip                  17975 non-null float64\n",
      "Taxpayer County               17977 non-null int64\n",
      "Outlet Number                 17977 non-null int64\n",
      "Location Name                 17977 non-null object\n",
      "Location Address              17977 non-null object\n",
      "Location City                 17977 non-null object\n",
      "Location State                17977 non-null object\n",
      "Location Zip                  17977 non-null int64\n",
      "Location County               17975 non-null float64\n",
      "Location Room Capacity        17977 non-null int64\n",
      "Location Tot Room Receipts    17977 non-null object\n",
      "Location Taxable Receipts     17977 non-null object\n",
      "Taxpayer Geolocation          17977 non-null object\n",
      "Location Geolocation          17977 non-null object\n",
      "dtypes: float64(2), int64(7), object(12)\n",
      "memory usage: 2.9+ MB\n"
     ]
    }
   ],
   "source": [
    "raw_dataframe.info()"
   ]
  },
  {
   "cell_type": "markdown",
   "metadata": {},
   "source": [
    "Most of the stuff above looks correct:\n",
    "- _Month_ is encoded as an integer, so pandas is correct in identifying the _Month_ column as an integer.\n",
    "- _Name_, _Address_, _City_, and _State_ are correctly identified as strings (or 'text', which is what pandas means when it says something is an object).\n",
    "- _County_ is also encoded as an integer, so pandas is correct again.\n",
    "- ... etc...\n",
    "\n",
    "There are a few things above that don't look right:\n",
    "- Why is _Taxpayer Zip_ a floating point number? A floating point is a decimal, like 0.75\n",
    "- Why is _Location County_ a floating point number?\n",
    "- _Location Tot Room Receipts_ has a dollar sign in it which is why pandas thinks it's a string instead of a number. Tot is short for Total.\n",
    "- Ditto for _Location Taxable Receipts_."
   ]
  },
  {
   "cell_type": "markdown",
   "metadata": {},
   "source": [
    "## Let's clean our data."
   ]
  },
  {
   "cell_type": "markdown",
   "metadata": {},
   "source": [
    "We idenified four issues above, so let's fix each one.<br>\n",
    "We start by making a copy of our raw dataset:"
   ]
  },
  {
   "cell_type": "code",
   "execution_count": 6,
   "metadata": {
    "collapsed": true
   },
   "outputs": [],
   "source": [
    "dataframe = raw_dataframe.copy()"
   ]
  },
  {
   "cell_type": "code",
   "execution_count": 7,
   "metadata": {
    "collapsed": false
   },
   "outputs": [],
   "source": [
    "# Convert _Taxpayer Zip_ to an integer.\n",
    "dataframe['Taxpayer Zip'] = dataframe['Taxpayer Zip'].fillna(0.0).astype(int)\n",
    "\n",
    "# Convert _Location County_ to an integer.\n",
    "dataframe['Location County'] = dataframe['Location County'].fillna(0.0).astype(int)\n",
    "\n",
    "# Convert _Location Tot Room Receipts_ to a float.\n",
    "# Note the red \"\\\" which is how to tell python to keep reading on the next line \n",
    "dataframe['Location Tot Room Receipts'] = \\\n",
    "    dataframe['Location Tot Room Receipts'] \\\n",
    "        .replace('[\\$,]', '', regex=True).astype(float, inplace=True)\n",
    "\n",
    "# Convert _Location Tot Room Receipts_ to a float.\n",
    "dataframe['Location Taxable Receipts'] = \\\n",
    "    dataframe['Location Taxable Receipts'] \\\n",
    "        .replace('[\\$,]', '', regex=True).astype(float, inplace=True)"
   ]
  },
  {
   "cell_type": "markdown",
   "metadata": {},
   "source": [
    "Again, let's have pandas give us info about what it thinks the datatype of each column is.<br>\n",
    "It should all look good now (note that we are looking at the `dataframe` object and no longer `raw_dataframe`:"
   ]
  },
  {
   "cell_type": "code",
   "execution_count": 8,
   "metadata": {
    "collapsed": false
   },
   "outputs": [
    {
     "name": "stdout",
     "output_type": "stream",
     "text": [
      "<class 'pandas.core.frame.DataFrame'>\n",
      "RangeIndex: 17977 entries, 0 to 17976\n",
      "Data columns (total 21 columns):\n",
      "Month                         17977 non-null int64\n",
      "Year                          17977 non-null int64\n",
      "Taxpayer Number               17977 non-null int64\n",
      "Taxpayer Name                 17977 non-null object\n",
      "Taxpayer Address              17977 non-null object\n",
      "Taxpayer City                 17977 non-null object\n",
      "Taxpayer State                17975 non-null object\n",
      "Taxpayer Zip                  17977 non-null int64\n",
      "Taxpayer County               17977 non-null int64\n",
      "Outlet Number                 17977 non-null int64\n",
      "Location Name                 17977 non-null object\n",
      "Location Address              17977 non-null object\n",
      "Location City                 17977 non-null object\n",
      "Location State                17977 non-null object\n",
      "Location Zip                  17977 non-null int64\n",
      "Location County               17977 non-null int64\n",
      "Location Room Capacity        17977 non-null int64\n",
      "Location Tot Room Receipts    17977 non-null float64\n",
      "Location Taxable Receipts     17977 non-null float64\n",
      "Taxpayer Geolocation          17977 non-null object\n",
      "Location Geolocation          17977 non-null object\n",
      "dtypes: float64(2), int64(9), object(10)\n",
      "memory usage: 2.9+ MB\n"
     ]
    }
   ],
   "source": [
    "dataframe.info()"
   ]
  },
  {
   "cell_type": "markdown",
   "metadata": {},
   "source": [
    "Nice! Our datatypes look correct. Next, we'll look at the content of our data."
   ]
  },
  {
   "cell_type": "markdown",
   "metadata": {},
   "source": [
    "## Exploratory Data Analysis (EDA)\n",
    "\n",
    "#### Sanity Check\n",
    "\n",
    "Let's look at the head again. It should be the same as before, but we'll look again to remind ourselves what it looks like."
   ]
  },
  {
   "cell_type": "code",
   "execution_count": 9,
   "metadata": {
    "collapsed": false
   },
   "outputs": [
    {
     "data": {
      "text/html": [
       "<div>\n",
       "<table border=\"1\" class=\"dataframe\">\n",
       "  <thead>\n",
       "    <tr style=\"text-align: right;\">\n",
       "      <th></th>\n",
       "      <th>Month</th>\n",
       "      <th>Year</th>\n",
       "      <th>Taxpayer Number</th>\n",
       "      <th>Taxpayer Name</th>\n",
       "      <th>Taxpayer Address</th>\n",
       "      <th>Taxpayer City</th>\n",
       "      <th>Taxpayer State</th>\n",
       "      <th>Taxpayer Zip</th>\n",
       "      <th>Taxpayer County</th>\n",
       "      <th>Outlet Number</th>\n",
       "      <th>Location Name</th>\n",
       "      <th>Location Address</th>\n",
       "      <th>Location City</th>\n",
       "      <th>Location State</th>\n",
       "      <th>Location Zip</th>\n",
       "      <th>Location County</th>\n",
       "      <th>Location Room Capacity</th>\n",
       "      <th>Location Tot Room Receipts</th>\n",
       "      <th>Location Taxable Receipts</th>\n",
       "      <th>Taxpayer Geolocation</th>\n",
       "      <th>Location Geolocation</th>\n",
       "    </tr>\n",
       "  </thead>\n",
       "  <tbody>\n",
       "    <tr>\n",
       "      <th>0</th>\n",
       "      <td>7</td>\n",
       "      <td>2015</td>\n",
       "      <td>32009496855</td>\n",
       "      <td>MARCUS C STARKEY</td>\n",
       "      <td>PO BOX 1780</td>\n",
       "      <td>PORT ARANSAS</td>\n",
       "      <td>TX</td>\n",
       "      <td>78373</td>\n",
       "      <td>178</td>\n",
       "      <td>155</td>\n",
       "      <td>(PB 114) TERRY L CARTER</td>\n",
       "      <td>2012 HWY 361 #114</td>\n",
       "      <td>PORT ARANSAS</td>\n",
       "      <td>TX</td>\n",
       "      <td>78373</td>\n",
       "      <td>178</td>\n",
       "      <td>1</td>\n",
       "      <td>6010.0</td>\n",
       "      <td>6010.0</td>\n",
       "      <td>PO BOX 1780\\nPORT ARANSAS, TX 78373\\n</td>\n",
       "      <td>2012 HWY 361 #114\\nPORT ARANSAS, TX 78373\\n</td>\n",
       "    </tr>\n",
       "    <tr>\n",
       "      <th>1</th>\n",
       "      <td>7</td>\n",
       "      <td>2015</td>\n",
       "      <td>32009496855</td>\n",
       "      <td>MARCUS C STARKEY</td>\n",
       "      <td>PO BOX 1780</td>\n",
       "      <td>PORT ARANSAS</td>\n",
       "      <td>TX</td>\n",
       "      <td>78373</td>\n",
       "      <td>178</td>\n",
       "      <td>156</td>\n",
       "      <td>(PB 205) LARRY OR VICKY MURPHY</td>\n",
       "      <td>2012 HWY 361 # 205</td>\n",
       "      <td>PORT ARANSAS</td>\n",
       "      <td>TX</td>\n",
       "      <td>78373</td>\n",
       "      <td>178</td>\n",
       "      <td>1</td>\n",
       "      <td>9855.0</td>\n",
       "      <td>9855.0</td>\n",
       "      <td>PO BOX 1780\\nPORT ARANSAS, TX 78373\\n</td>\n",
       "      <td>2012 HWY 361 # 205\\nPORT ARANSAS, TX 78373\\n</td>\n",
       "    </tr>\n",
       "    <tr>\n",
       "      <th>2</th>\n",
       "      <td>7</td>\n",
       "      <td>2015</td>\n",
       "      <td>32009496855</td>\n",
       "      <td>MARCUS C STARKEY</td>\n",
       "      <td>PO BOX 1780</td>\n",
       "      <td>PORT ARANSAS</td>\n",
       "      <td>TX</td>\n",
       "      <td>78373</td>\n",
       "      <td>178</td>\n",
       "      <td>194</td>\n",
       "      <td>(PB101) STEVEN AND MARY MORGAN</td>\n",
       "      <td>2012 HWY 361 #101</td>\n",
       "      <td>PORT ARANSAS</td>\n",
       "      <td>TX</td>\n",
       "      <td>78373</td>\n",
       "      <td>178</td>\n",
       "      <td>1</td>\n",
       "      <td>9425.0</td>\n",
       "      <td>9425.0</td>\n",
       "      <td>PO BOX 1780\\nPORT ARANSAS, TX 78373\\n</td>\n",
       "      <td>2012 HWY 361 #101\\nPORT ARANSAS, TX 78373\\n</td>\n",
       "    </tr>\n",
       "  </tbody>\n",
       "</table>\n",
       "</div>"
      ],
      "text/plain": [
       "   Month  Year  Taxpayer Number     Taxpayer Name Taxpayer Address  \\\n",
       "0      7  2015      32009496855  MARCUS C STARKEY      PO BOX 1780   \n",
       "1      7  2015      32009496855  MARCUS C STARKEY      PO BOX 1780   \n",
       "2      7  2015      32009496855  MARCUS C STARKEY      PO BOX 1780   \n",
       "\n",
       "  Taxpayer City Taxpayer State  Taxpayer Zip  Taxpayer County  Outlet Number  \\\n",
       "0  PORT ARANSAS             TX         78373              178            155   \n",
       "1  PORT ARANSAS             TX         78373              178            156   \n",
       "2  PORT ARANSAS             TX         78373              178            194   \n",
       "\n",
       "                    Location Name    Location Address Location City  \\\n",
       "0         (PB 114) TERRY L CARTER   2012 HWY 361 #114  PORT ARANSAS   \n",
       "1  (PB 205) LARRY OR VICKY MURPHY  2012 HWY 361 # 205  PORT ARANSAS   \n",
       "2  (PB101) STEVEN AND MARY MORGAN   2012 HWY 361 #101  PORT ARANSAS   \n",
       "\n",
       "  Location State  Location Zip  Location County  Location Room Capacity  \\\n",
       "0             TX         78373              178                       1   \n",
       "1             TX         78373              178                       1   \n",
       "2             TX         78373              178                       1   \n",
       "\n",
       "   Location Tot Room Receipts  Location Taxable Receipts  \\\n",
       "0                      6010.0                     6010.0   \n",
       "1                      9855.0                     9855.0   \n",
       "2                      9425.0                     9425.0   \n",
       "\n",
       "                    Taxpayer Geolocation  \\\n",
       "0  PO BOX 1780\\nPORT ARANSAS, TX 78373\\n   \n",
       "1  PO BOX 1780\\nPORT ARANSAS, TX 78373\\n   \n",
       "2  PO BOX 1780\\nPORT ARANSAS, TX 78373\\n   \n",
       "\n",
       "                           Location Geolocation  \n",
       "0   2012 HWY 361 #114\\nPORT ARANSAS, TX 78373\\n  \n",
       "1  2012 HWY 361 # 205\\nPORT ARANSAS, TX 78373\\n  \n",
       "2   2012 HWY 361 #101\\nPORT ARANSAS, TX 78373\\n  "
      ]
     },
     "execution_count": 9,
     "metadata": {},
     "output_type": "execute_result"
    }
   ],
   "source": [
    "dataframe.head(3)"
   ]
  },
  {
   "cell_type": "markdown",
   "metadata": {},
   "source": [
    "I'm noticing something that might be wrong: Why is 'Location Room Capacity' equal 1 for these rows? Are these hotels with just one room each? Maybe... we'll keep this in mind.\n",
    "\n",
    "For now let's get an idea about the distribution of the 'Location Room Capacity' column. We'll create a histogram over this column."
   ]
  },
  {
   "cell_type": "code",
   "execution_count": 10,
   "metadata": {
    "collapsed": false
   },
   "outputs": [
    {
     "data": {
      "text/plain": [
       "<matplotlib.axes._subplots.AxesSubplot at 0x113d02c10>"
      ]
     },
     "execution_count": 10,
     "metadata": {},
     "output_type": "execute_result"
    },
    {
     "data": {
      "image/png": "[encoded data removed]",
      "text/plain": [
       "<matplotlib.figure.Figure at 0x113cd35d0>"
      ]
     },
     "metadata": {},
     "output_type": "display_data"
    }
   ],
   "source": [
    "# Hmm, _Location Room Capacity_ looks suspicious\n",
    "dataframe['Location Room Capacity'].hist(bins=100) "
   ]
  },
  {
   "cell_type": "code",
   "execution_count": 11,
   "metadata": {
    "collapsed": false
   },
   "outputs": [
    {
     "data": {
      "text/plain": [
       "count    17977.000000\n",
       "mean        53.730100\n",
       "std        206.196703\n",
       "min          1.000000\n",
       "25%          1.000000\n",
       "50%         29.000000\n",
       "75%         73.000000\n",
       "max      17211.000000\n",
       "Name: Location Room Capacity, dtype: float64"
      ]
     },
     "execution_count": 11,
     "metadata": {},
     "output_type": "execute_result"
    }
   ],
   "source": [
    "dataframe['Location Room Capacity'].describe()"
   ]
  },
  {
   "cell_type": "markdown",
   "metadata": {},
   "source": [
    "Hmm, not very informative. That's okay, let's try again, but this time we'll only look at rows where the 'Location Room Capacity' is less than 50. This will make us sort-of \"zoom in\" on the part that's most interesting:"
   ]
  },
  {
   "cell_type": "code",
   "execution_count": 12,
   "metadata": {
    "collapsed": false
   },
   "outputs": [
    {
     "data": {
      "text/plain": [
       "<matplotlib.axes._subplots.AxesSubplot at 0x113cd3790>"
      ]
     },
     "execution_count": 12,
     "metadata": {},
     "output_type": "execute_result"
    },
    {
     "data": {
      "image/png": "[encoded data removed]",
      "text/plain": [
       "<matplotlib.figure.Figure at 0x100736150>"
      ]
     },
     "metadata": {},
     "output_type": "display_data"
    }
   ],
   "source": [
    "rows_of_interest = (dataframe['Location Room Capacity'] < 50)\n",
    "dataframe[rows_of_interest]['Location Room Capacity'].hist(bins=100)"
   ]
  },
  {
   "cell_type": "markdown",
   "metadata": {},
   "source": [
    "What is that spike at 'Location Room Capacity' == 1? Let's find out how many of these items (rows) we got."
   ]
  },
  {
   "cell_type": "code",
   "execution_count": 13,
   "metadata": {
    "collapsed": false
   },
   "outputs": [
    {
     "data": {
      "text/plain": [
       "5276"
      ]
     },
     "execution_count": 13,
     "metadata": {},
     "output_type": "execute_result"
    }
   ],
   "source": [
    "# How many of these suspicious observations do we have?\n",
    "(dataframe['Location Room Capacity'] == 1).sum()"
   ]
  },
  {
   "cell_type": "markdown",
   "metadata": {},
   "source": [
    "... yep, that spike is at 'Location Room Capacity' == 1.\n",
    "\n",
    "There seems to be way too many hotels with 'Location Room Capacity' == 1. It's possible that whoever created this dataset is filling all \"unknown values\" with the value 1. It's too soon to tell...\n",
    "\n",
    "![Title Image](img/shifu.png)"
   ]
  },
  {
   "cell_type": "code",
   "execution_count": 14,
   "metadata": {
    "collapsed": false
   },
   "outputs": [],
   "source": [
    "# IGNORE THIS FOR NOW!\n",
    "# Keep commented out.\n",
    "#\n",
    "# print(\"Orig size:\", dataframe.shape)\n",
    "# dataframe = dataframe[dataframe['Location Room Capacity'] > 1]\n",
    "# print(\"New size:\", dataframe.shape)"
   ]
  },
  {
   "cell_type": "markdown",
   "metadata": {},
   "source": [
    "### Visualization (histograms and scatterplots)\n",
    "Let's get to know our data better with some charts"
   ]
  },
  {
   "cell_type": "markdown",
   "metadata": {},
   "source": [
    "#### Number of States Represented\n",
    "Let's see what states are represented in this data. (It should only be Texas, but let's check.)"
   ]
  },
  {
   "cell_type": "code",
   "execution_count": 15,
   "metadata": {
    "collapsed": false
   },
   "outputs": [
    {
     "data": {
      "text/plain": [
       "<matplotlib.text.Text at 0x11448de50>"
      ]
     },
     "execution_count": 15,
     "metadata": {},
     "output_type": "execute_result"
    },
    {
     "data": {
      "image/png": "[encoded data removed]",
      "text/plain": [
       "<matplotlib.figure.Figure at 0x1143ecb50>"
      ]
     },
     "metadata": {},
     "output_type": "display_data"
    }
   ],
   "source": [
    "agg = dataframe.groupby('Location State').apply(len)\n",
    "agg.plot(kind='bar').set_ylabel('# records')"
   ]
  },
  {
   "cell_type": "markdown",
   "metadata": {},
   "source": [
    "... seems have some non-Texas stuff in here! Let's get a textual printout for more detail."
   ]
  },
  {
   "cell_type": "code",
   "execution_count": 16,
   "metadata": {
    "collapsed": false
   },
   "outputs": [
    {
     "data": {
      "text/plain": [
       "TX    17975\n",
       "IN        2\n",
       "Name: Location State, dtype: int64"
      ]
     },
     "execution_count": 16,
     "metadata": {},
     "output_type": "execute_result"
    }
   ],
   "source": [
    "dataframe['Location State'].value_counts()"
   ]
  },
  {
   "cell_type": "markdown",
   "metadata": {},
   "source": [
    "... Indiana... what's up with that? Let's keep only the Texas rows. Let's filter them out:"
   ]
  },
  {
   "cell_type": "code",
   "execution_count": 17,
   "metadata": {
    "collapsed": true
   },
   "outputs": [],
   "source": [
    "texas_df = dataframe[dataframe['Location State'] == 'TX']"
   ]
  },
  {
   "cell_type": "markdown",
   "metadata": {},
   "source": [
    "#### Number of Cities Represented\n",
    "Ok, how many unique cities (Texas only) are represented?"
   ]
  },
  {
   "cell_type": "code",
   "execution_count": 18,
   "metadata": {
    "collapsed": false
   },
   "outputs": [
    {
     "data": {
      "text/plain": [
       "count            17975\n",
       "unique             696\n",
       "top       PORT ARANSAS\n",
       "freq              1476\n",
       "Name: Location City, dtype: object"
      ]
     },
     "execution_count": 18,
     "metadata": {},
     "output_type": "execute_result"
    }
   ],
   "source": [
    "texas_df['Location City'].describe()"
   ]
  },
  {
   "cell_type": "markdown",
   "metadata": {},
   "source": [
    "#### Histogram: Number of unique hotels in each city\n",
    "Ok, now let's let's do a groupby (think: pivot table) on the 'Location City' and aggregate unique tax ids to get a total count (per city):"
   ]
  },
  {
   "cell_type": "code",
   "execution_count": 19,
   "metadata": {
    "collapsed": false
   },
   "outputs": [
    {
     "data": {
      "image/png": "[encoded data removed]",
      "text/plain": [
       "<matplotlib.figure.Figure at 0x1145b7410>"
      ]
     },
     "metadata": {},
     "output_type": "display_data"
    }
   ],
   "source": [
    "city_counts = texas_df.groupby('Location City')['Taxpayer Number'].nunique()\n",
    "city_counts.sort_values(axis=0, ascending=False, inplace=True)\n",
    "top_cities = city_counts > 50\n",
    "city_counts[top_cities].plot(kind='bar').set_ylabel('# unique hotels');"
   ]
  },
  {
   "cell_type": "markdown",
   "metadata": {},
   "source": [
    "#### Exploring the numeric columns"
   ]
  },
  {
   "cell_type": "code",
   "execution_count": 20,
   "metadata": {
    "collapsed": true
   },
   "outputs": [],
   "source": [
    "# Now let's focus on the numeric columns.\n",
    "numeric_columns = ['Month', 'Year', 'Outlet Number', 'Location Room Capacity',\n",
    "                   'Location Tot Room Receipts', 'Location Taxable Receipts']"
   ]
  },
  {
   "cell_type": "code",
   "execution_count": 21,
   "metadata": {
    "collapsed": false
   },
   "outputs": [
    {
     "data": {
      "text/html": [
       "<div>\n",
       "<table border=\"1\" class=\"dataframe\">\n",
       "  <thead>\n",
       "    <tr style=\"text-align: right;\">\n",
       "      <th></th>\n",
       "      <th>Month</th>\n",
       "      <th>Year</th>\n",
       "      <th>Outlet Number</th>\n",
       "      <th>Location Room Capacity</th>\n",
       "      <th>Location Tot Room Receipts</th>\n",
       "      <th>Location Taxable Receipts</th>\n",
       "    </tr>\n",
       "  </thead>\n",
       "  <tbody>\n",
       "    <tr>\n",
       "      <th>count</th>\n",
       "      <td>17975.000000</td>\n",
       "      <td>17975.0</td>\n",
       "      <td>17975.000000</td>\n",
       "      <td>17975.000000</td>\n",
       "      <td>1.797500e+04</td>\n",
       "      <td>1.797500e+04</td>\n",
       "    </tr>\n",
       "    <tr>\n",
       "      <th>mean</th>\n",
       "      <td>7.506926</td>\n",
       "      <td>2015.0</td>\n",
       "      <td>34.492796</td>\n",
       "      <td>53.732851</td>\n",
       "      <td>1.033472e+05</td>\n",
       "      <td>8.925478e+04</td>\n",
       "    </tr>\n",
       "    <tr>\n",
       "      <th>std</th>\n",
       "      <td>0.499966</td>\n",
       "      <td>0.0</td>\n",
       "      <td>77.882943</td>\n",
       "      <td>206.208009</td>\n",
       "      <td>3.057721e+05</td>\n",
       "      <td>2.505573e+05</td>\n",
       "    </tr>\n",
       "    <tr>\n",
       "      <th>min</th>\n",
       "      <td>7.000000</td>\n",
       "      <td>2015.0</td>\n",
       "      <td>1.000000</td>\n",
       "      <td>1.000000</td>\n",
       "      <td>0.000000e+00</td>\n",
       "      <td>0.000000e+00</td>\n",
       "    </tr>\n",
       "    <tr>\n",
       "      <th>25%</th>\n",
       "      <td>7.000000</td>\n",
       "      <td>2015.0</td>\n",
       "      <td>1.000000</td>\n",
       "      <td>1.000000</td>\n",
       "      <td>3.850000e+03</td>\n",
       "      <td>3.398000e+03</td>\n",
       "    </tr>\n",
       "    <tr>\n",
       "      <th>50%</th>\n",
       "      <td>8.000000</td>\n",
       "      <td>2015.0</td>\n",
       "      <td>2.000000</td>\n",
       "      <td>29.000000</td>\n",
       "      <td>2.041441e+04</td>\n",
       "      <td>1.558260e+04</td>\n",
       "    </tr>\n",
       "    <tr>\n",
       "      <th>75%</th>\n",
       "      <td>8.000000</td>\n",
       "      <td>2015.0</td>\n",
       "      <td>26.000000</td>\n",
       "      <td>73.000000</td>\n",
       "      <td>1.097441e+05</td>\n",
       "      <td>8.907580e+04</td>\n",
       "    </tr>\n",
       "    <tr>\n",
       "      <th>max</th>\n",
       "      <td>8.000000</td>\n",
       "      <td>2015.0</td>\n",
       "      <td>598.000000</td>\n",
       "      <td>17211.000000</td>\n",
       "      <td>1.552075e+07</td>\n",
       "      <td>7.142023e+06</td>\n",
       "    </tr>\n",
       "  </tbody>\n",
       "</table>\n",
       "</div>"
      ],
      "text/plain": [
       "              Month     Year  Outlet Number  Location Room Capacity  \\\n",
       "count  17975.000000  17975.0   17975.000000            17975.000000   \n",
       "mean       7.506926   2015.0      34.492796               53.732851   \n",
       "std        0.499966      0.0      77.882943              206.208009   \n",
       "min        7.000000   2015.0       1.000000                1.000000   \n",
       "25%        7.000000   2015.0       1.000000                1.000000   \n",
       "50%        8.000000   2015.0       2.000000               29.000000   \n",
       "75%        8.000000   2015.0      26.000000               73.000000   \n",
       "max        8.000000   2015.0     598.000000            17211.000000   \n",
       "\n",
       "       Location Tot Room Receipts  Location Taxable Receipts  \n",
       "count                1.797500e+04               1.797500e+04  \n",
       "mean                 1.033472e+05               8.925478e+04  \n",
       "std                  3.057721e+05               2.505573e+05  \n",
       "min                  0.000000e+00               0.000000e+00  \n",
       "25%                  3.850000e+03               3.398000e+03  \n",
       "50%                  2.041441e+04               1.558260e+04  \n",
       "75%                  1.097441e+05               8.907580e+04  \n",
       "max                  1.552075e+07               7.142023e+06  "
      ]
     },
     "execution_count": 21,
     "metadata": {},
     "output_type": "execute_result"
    }
   ],
   "source": [
    "# Let's see some stats\n",
    "texas_df[numeric_columns].describe()"
   ]
  },
  {
   "cell_type": "markdown",
   "metadata": {},
   "source": [
    "#### Pairplot over a few numeric columns-of-interest\n",
    "A _pairplot_ (also known as a _scatter matrix_) will plot every column vs every other column. It's a quick way to see which pairs of columns are correlated (or not). Let's try a few columns:"
   ]
  },
  {
   "cell_type": "code",
   "execution_count": 22,
   "metadata": {
    "collapsed": false
   },
   "outputs": [
    {
     "name": "stderr",
     "output_type": "stream",
     "text": [
      "/Users/turbo/anaconda/lib/python2.7/site-packages/matplotlib/collections.py:590: FutureWarning: elementwise comparison failed; returning scalar instead, but in the future will perform elementwise comparison\n",
      "  if self._edgecolors == str('face'):\n"
     ]
    },
    {
     "data": {
      "image/png": "[encoded data removed]",
      "text/plain": [
       "<matplotlib.figure.Figure at 0x114883710>"
      ]
     },
     "metadata": {},
     "output_type": "display_data"
    }
   ],
   "source": [
    "cols_of_interest = ['Location Room Capacity', 'Location Tot Room Receipts',\n",
    "                    'Location Taxable Receipts']\n",
    "scatter_matrix(texas_df[cols_of_interest], figsize=(10, 8));"
   ]
  },
  {
   "cell_type": "markdown",
   "metadata": {},
   "source": [
    "#### Compare two cities: Scatterplot 'Location Room Capacity' vs 'Location Tot Room Receipts' for each city\n",
    "\n",
    "Ok, let's change thing up a bit. How do different cities compare? Does it seem that Austin and El Paso are different, or are they basically the same? (We'll explore this more further later on, but for now let's just look at the pretty picture and make our best guess.)\n"
   ]
  },
  {
   "cell_type": "code",
   "execution_count": 23,
   "metadata": {
    "collapsed": false
   },
   "outputs": [
    {
     "name": "stderr",
     "output_type": "stream",
     "text": [
      "/Users/turbo/anaconda/lib/python2.7/site-packages/ipykernel/__main__.py:7: UserWarning: Boolean Series key will be reindexed to match DataFrame index.\n",
      "/Users/turbo/anaconda/lib/python2.7/site-packages/ipykernel/__main__.py:8: UserWarning: Boolean Series key will be reindexed to match DataFrame index.\n"
     ]
    },
    {
     "data": {
      "text/plain": [
       "<matplotlib.legend.Legend at 0x11535aa50>"
      ]
     },
     "execution_count": 23,
     "metadata": {},
     "output_type": "execute_result"
    },
    {
     "data": {
      "image/png": "[encoded data removed]",
      "text/plain": [
       "<matplotlib.figure.Figure at 0x11535a390>"
      ]
     },
     "metadata": {},
     "output_type": "display_data"
    }
   ],
   "source": [
    "cities_of_interest = ['AUSTIN', 'EL PASO']\n",
    "\n",
    "# Scatter plot by city.\n",
    "for city in cities_of_interest:\n",
    "    city_mask = (texas_df['Location City'] == city)\n",
    "    size_mask = (texas_df['Location Room Capacity'] < 220)\n",
    "    plt.plot(texas_df[city_mask][size_mask]['Location Room Capacity'],\n",
    "             texas_df[city_mask][size_mask]['Location Tot Room Receipts'],\n",
    "             linestyle='',\n",
    "             marker='o',\n",
    "             alpha=.2,\n",
    "             label=city)\n",
    "plt.xlabel('Location Room Capacity')\n",
    "plt.ylabel('Location Tot Room Receipts')\n",
    "plt.legend(numpoints=1)"
   ]
  },
  {
   "cell_type": "markdown",
   "metadata": {},
   "source": [
    "Humm... I don't know about you, but I didn't expect this! There are two things here that surprised me:\n",
    "1. The trend-line is not very strong. There is a general upward trend, but it is riddled with noise.\n",
    "2. These cities do not differ much! Average income per room is roughly the same in each city.\n",
    "\n",
    "The takeaway (this is usually the takeaway), is two-fold:\n",
    "1. Your data is probably not as clean asd pretty as you'd like, and\n",
    "2. Often your assumptions about what you will find are just plain off.\n",
    "\n",
    "That's why it is so important to dive into the data."
   ]
  },
  {
   "cell_type": "markdown",
   "metadata": {},
   "source": [
    "#### Histogram of every numeric column\n",
    "Ok, let's look at those numeric columns again. This is another graph that you should make for every dataset you get. It is often useful. "
   ]
  },
  {
   "cell_type": "code",
   "execution_count": 24,
   "metadata": {
    "collapsed": false
   },
   "outputs": [
    {
     "data": {
      "text/plain": [
       "array([[<matplotlib.axes._subplots.AxesSubplot object at 0x115391fd0>,\n",
       "        <matplotlib.axes._subplots.AxesSubplot object at 0x115a4f050>],\n",
       "       [<matplotlib.axes._subplots.AxesSubplot object at 0x115ac4c10>,\n",
       "        <matplotlib.axes._subplots.AxesSubplot object at 0x115c531d0>],\n",
       "       [<matplotlib.axes._subplots.AxesSubplot object at 0x115cd4410>,\n",
       "        <matplotlib.axes._subplots.AxesSubplot object at 0x115c7e510>]], dtype=object)"
      ]
     },
     "execution_count": 24,
     "metadata": {},
     "output_type": "execute_result"
    },
    {
     "data": {
      "image/png": "[encoded data removed]",
      "text/plain": [
       "<matplotlib.figure.Figure at 0x11537e090>"
      ]
     },
     "metadata": {},
     "output_type": "display_data"
    }
   ],
   "source": [
    "# Here's another one-liner:\n",
    "texas_df[numeric_columns].hist(bins=10, figsize=(10, 6))"
   ]
  },
  {
   "cell_type": "markdown",
   "metadata": {},
   "source": [
    "#### Years and Months, what do we have of each?"
   ]
  },
  {
   "cell_type": "code",
   "execution_count": 25,
   "metadata": {
    "collapsed": false
   },
   "outputs": [
    {
     "data": {
      "text/plain": [
       "2015    17975\n",
       "Name: Year, dtype: int64"
      ]
     },
     "execution_count": 25,
     "metadata": {},
     "output_type": "execute_result"
    }
   ],
   "source": [
    "texas_df['Year'].value_counts()"
   ]
  },
  {
   "cell_type": "markdown",
   "metadata": {},
   "source": [
    "So out data is from 2015, good. We only have two months (July and August) though, see:"
   ]
  },
  {
   "cell_type": "code",
   "execution_count": 26,
   "metadata": {
    "collapsed": false
   },
   "outputs": [
    {
     "data": {
      "text/plain": [
       "8    9112\n",
       "7    8863\n",
       "Name: Month, dtype: int64"
      ]
     },
     "execution_count": 26,
     "metadata": {},
     "output_type": "execute_result"
    }
   ],
   "source": [
    "texas_df['Month'].value_counts()"
   ]
  },
  {
   "cell_type": "markdown",
   "metadata": {},
   "source": [
    "#### Histogram: Avg 'room capacity' per city (top cities only)\n",
    "So how does capacity differ by city?"
   ]
  },
  {
   "cell_type": "code",
   "execution_count": 27,
   "metadata": {
    "collapsed": false
   },
   "outputs": [
    {
     "data": {
      "text/plain": [
       "<matplotlib.text.Text at 0x1162d8810>"
      ]
     },
     "execution_count": 27,
     "metadata": {},
     "output_type": "execute_result"
    },
    {
     "data": {
      "image/png": "[encoded data removed]",
      "text/plain": [
       "<matplotlib.figure.Figure at 0x115fa5690>"
      ]
     },
     "metadata": {},
     "output_type": "display_data"
    }
   ],
   "source": [
    "city_counts = texas_df.groupby('Location City')['Location Room Capacity'].mean()\n",
    "city_counts.sort_values(axis=0, ascending=False, inplace=True)\n",
    "city_counts[city_counts>110].plot(kind='bar', figsize=(10, 4)).set_ylabel('avg room capacity')"
   ]
  },
  {
   "cell_type": "markdown",
   "metadata": {},
   "source": [
    "#### Histogram: Avg income per room per night per city (top cities only)\n",
    "...and average income per city?"
   ]
  },
  {
   "cell_type": "code",
   "execution_count": 28,
   "metadata": {
    "collapsed": false
   },
   "outputs": [
    {
     "data": {
      "text/plain": [
       "<matplotlib.text.Text at 0x115391190>"
      ]
     },
     "execution_count": 28,
     "metadata": {},
     "output_type": "execute_result"
    },
    {
     "data": {
      "image/png": "[encoded data removed]",
      "text/plain": [
       "<matplotlib.figure.Figure at 0x115220b50>"
      ]
     },
     "metadata": {},
     "output_type": "display_data"
    }
   ],
   "source": [
    "num_days = 31 + 31  # <-- both July and August each have 31 days in them.\n",
    "\n",
    "cities = texas_df.groupby('Location City')\n",
    "city_receipts = cities['Location Tot Room Receipts'].sum()\n",
    "city_rooms = cities['Location Room Capacity'].sum()\n",
    "city_income_per_room_per_night = city_receipts / city_rooms / num_days\n",
    "city_income_per_room_per_night.sort_values(axis=0, ascending=False, inplace=True)\n",
    "most_profitable_cities = city_income_per_room_per_night > 100\n",
    "city_income_per_room_per_night[most_profitable_cities].plot(kind='bar', figsize=(10, 4)) \\\n",
    "    .set_ylabel('avg income per room per night')"
   ]
  },
  {
   "cell_type": "markdown",
   "metadata": {},
   "source": [
    "#### <b><font color='indianred'>RED ALERT:</b> What's up with SOUTHLAKE?"
   ]
  },
  {
   "cell_type": "code",
   "execution_count": 29,
   "metadata": {
    "collapsed": false
   },
   "outputs": [
    {
     "data": {
      "text/html": [
       "<div>\n",
       "<table border=\"1\" class=\"dataframe\">\n",
       "  <thead>\n",
       "    <tr style=\"text-align: right;\">\n",
       "      <th></th>\n",
       "      <th>Month</th>\n",
       "      <th>Year</th>\n",
       "      <th>Taxpayer Number</th>\n",
       "      <th>Taxpayer Name</th>\n",
       "      <th>Taxpayer Address</th>\n",
       "      <th>Taxpayer City</th>\n",
       "      <th>Taxpayer State</th>\n",
       "      <th>Taxpayer Zip</th>\n",
       "      <th>Taxpayer County</th>\n",
       "      <th>Outlet Number</th>\n",
       "      <th>Location Name</th>\n",
       "      <th>Location Address</th>\n",
       "      <th>Location City</th>\n",
       "      <th>Location State</th>\n",
       "      <th>Location Zip</th>\n",
       "      <th>Location County</th>\n",
       "      <th>Location Room Capacity</th>\n",
       "      <th>Location Tot Room Receipts</th>\n",
       "      <th>Location Taxable Receipts</th>\n",
       "      <th>Taxpayer Geolocation</th>\n",
       "      <th>Location Geolocation</th>\n",
       "    </tr>\n",
       "  </thead>\n",
       "  <tbody>\n",
       "    <tr>\n",
       "      <th>9915</th>\n",
       "      <td>8</td>\n",
       "      <td>2015</td>\n",
       "      <td>32040911136</td>\n",
       "      <td>H &amp; C SOUTHLAKE HILTON, LLC</td>\n",
       "      <td>4119 MASSARD RD</td>\n",
       "      <td>FORT SMITH</td>\n",
       "      <td>AR</td>\n",
       "      <td>72903</td>\n",
       "      <td>0</td>\n",
       "      <td>1</td>\n",
       "      <td>H &amp; C SOUTHLAKE HILTON, LLC</td>\n",
       "      <td>1400 PLAZA PL</td>\n",
       "      <td>SOUTHLAKE</td>\n",
       "      <td>TX</td>\n",
       "      <td>76092</td>\n",
       "      <td>220</td>\n",
       "      <td>1</td>\n",
       "      <td>1308202.16</td>\n",
       "      <td>1263473.16</td>\n",
       "      <td>4119 MASSARD RD\\nFORT SMITH, AR 72903\\n(35.341...</td>\n",
       "      <td>1400 PLAZA PL\\nSOUTHLAKE, TX 76092\\n(32.94558,...</td>\n",
       "    </tr>\n",
       "    <tr>\n",
       "      <th>17005</th>\n",
       "      <td>7</td>\n",
       "      <td>2015</td>\n",
       "      <td>32040911136</td>\n",
       "      <td>H &amp; C SOUTHLAKE HILTON, LLC</td>\n",
       "      <td>4119 MASSARD RD</td>\n",
       "      <td>FORT SMITH</td>\n",
       "      <td>AR</td>\n",
       "      <td>72903</td>\n",
       "      <td>0</td>\n",
       "      <td>1</td>\n",
       "      <td>H &amp; C SOUTHLAKE HILTON, LLC</td>\n",
       "      <td>1400 PLAZA PL</td>\n",
       "      <td>SOUTHLAKE</td>\n",
       "      <td>TX</td>\n",
       "      <td>76092</td>\n",
       "      <td>220</td>\n",
       "      <td>1</td>\n",
       "      <td>1310892.31</td>\n",
       "      <td>1284664.81</td>\n",
       "      <td>4119 MASSARD RD\\nFORT SMITH, AR 72903\\n(35.341...</td>\n",
       "      <td>1400 PLAZA PL\\nSOUTHLAKE, TX 76092\\n(32.94558,...</td>\n",
       "    </tr>\n",
       "  </tbody>\n",
       "</table>\n",
       "</div>"
      ],
      "text/plain": [
       "       Month  Year  Taxpayer Number                Taxpayer Name  \\\n",
       "9915       8  2015      32040911136  H & C SOUTHLAKE HILTON, LLC   \n",
       "17005      7  2015      32040911136  H & C SOUTHLAKE HILTON, LLC   \n",
       "\n",
       "      Taxpayer Address Taxpayer City Taxpayer State  Taxpayer Zip  \\\n",
       "9915   4119 MASSARD RD    FORT SMITH             AR         72903   \n",
       "17005  4119 MASSARD RD    FORT SMITH             AR         72903   \n",
       "\n",
       "       Taxpayer County  Outlet Number                Location Name  \\\n",
       "9915                 0              1  H & C SOUTHLAKE HILTON, LLC   \n",
       "17005                0              1  H & C SOUTHLAKE HILTON, LLC   \n",
       "\n",
       "      Location Address Location City Location State  Location Zip  \\\n",
       "9915     1400 PLAZA PL     SOUTHLAKE             TX         76092   \n",
       "17005    1400 PLAZA PL     SOUTHLAKE             TX         76092   \n",
       "\n",
       "       Location County  Location Room Capacity  Location Tot Room Receipts  \\\n",
       "9915               220                       1                  1308202.16   \n",
       "17005              220                       1                  1310892.31   \n",
       "\n",
       "       Location Taxable Receipts  \\\n",
       "9915                  1263473.16   \n",
       "17005                 1284664.81   \n",
       "\n",
       "                                    Taxpayer Geolocation  \\\n",
       "9915   4119 MASSARD RD\\nFORT SMITH, AR 72903\\n(35.341...   \n",
       "17005  4119 MASSARD RD\\nFORT SMITH, AR 72903\\n(35.341...   \n",
       "\n",
       "                                    Location Geolocation  \n",
       "9915   1400 PLAZA PL\\nSOUTHLAKE, TX 76092\\n(32.94558,...  \n",
       "17005  1400 PLAZA PL\\nSOUTHLAKE, TX 76092\\n(32.94558,...  "
      ]
     },
     "execution_count": 29,
     "metadata": {},
     "output_type": "execute_result"
    }
   ],
   "source": [
    "texas_df[texas_df['Location City'] == 'SOUTHLAKE']"
   ]
  },
  {
   "cell_type": "markdown",
   "metadata": {},
   "source": [
    "Wait. Is this bad data?<br>\n",
    "\n",
    "Our data says that this hotel in Southlake has only one room. Let's look into whether or not that's true. Here's the website for that hotel in Southlake:\n",
    "http://www3.hilton.com/en/hotels/texas/hilton-dallas-southlake-town-square-DFWSLHF/index.html\n",
    "\n",
    "Ok... that hotel above definitely has more than one room! Remember how we considered dropping rows where 'Location Room Capacity' == 1? Well, I think it's time to pull the trigger on that decision. \n",
    "\n",
    "__HINT: Look for Master Shifu. <br>There is code in one of the cells above that does this, but it is commented out--all you need to do is uncomment that code and run all the cells from there to here again. notice what changes as you re-run each cell.__"
   ]
  },
  {
   "cell_type": "markdown",
   "metadata": {},
   "source": [
    "#### Is there much of a difference between the month of July and the month of August?\n",
    "Ok, Let's compare average income between months and per city:"
   ]
  },
  {
   "cell_type": "code",
   "execution_count": 30,
   "metadata": {
    "collapsed": false
   },
   "outputs": [
    {
     "data": {
      "text/plain": [
       "<matplotlib.text.Text at 0x11526b250>"
      ]
     },
     "execution_count": 30,
     "metadata": {},
     "output_type": "execute_result"
    },
    {
     "data": {
      "image/png": "[encoded data removed]",
      "text/plain": [
       "<matplotlib.figure.Figure at 0x114883310>"
      ]
     },
     "metadata": {},
     "output_type": "display_data"
    }
   ],
   "source": [
    "# How does the specific month affect the avg income per room per night?\n",
    "\n",
    "cities = texas_df.groupby(['Location City', 'Month'])\n",
    "city_receipts = cities['Location Tot Room Receipts'].sum()\n",
    "city_rooms = cities['Location Room Capacity'].sum()\n",
    "city_income_per_room_per_night = city_receipts / city_rooms / num_days\n",
    "city_income_per_room_per_night = city_income_per_room_per_night.unstack()\n",
    "city_income_per_room_per_night['avg_7_8'] = (city_income_per_room_per_night[7] + \\\n",
    "                                             city_income_per_room_per_night[8]) / 2\n",
    "city_income_per_room_per_night.sort_values(by='avg_7_8', ascending=False, inplace=True)\n",
    "most_profitable_cities = city_income_per_room_per_night['avg_7_8'] > 100\n",
    "city_income_per_room_per_night[most_profitable_cities].plot(kind='bar', figsize=(10, 4)) \\\n",
    "    .set_ylabel('avg income per room per night')"
   ]
  },
  {
   "cell_type": "code",
   "execution_count": 31,
   "metadata": {
    "collapsed": false
   },
   "outputs": [
    {
     "name": "stdout",
     "output_type": "stream",
     "text": [
      "('July Avg:', 59.724957555501405)\n",
      "('Aug Avg: ', 55.023537498310844)\n"
     ]
    }
   ],
   "source": [
    "# Seems July (7) was a better month for the top cities than August (8). Let's see if this\n",
    "# was overall true for the entire dataset.\n",
    "print('July Avg:', city_income_per_room_per_night[7].mean())\n",
    "print('Aug Avg: ', city_income_per_room_per_night[8].mean())"
   ]
  },
  {
   "cell_type": "markdown",
   "metadata": {},
   "source": [
    "####  _Enough for today. Break time :)_"
   ]
  }
 ],
 "metadata": {
  "kernelspec": {
   "display_name": "Python 2",
   "language": "python",
   "name": "python2"
  },
  "language_info": {
   "codemirror_mode": {
    "name": "ipython",
    "version": 2
   },
   "file_extension": ".py",
   "mimetype": "text/x-python",
   "name": "python",
   "nbconvert_exporter": "python",
   "pygments_lexer": "ipython2",
   "version": "2.7.12"
  }
 },
 "nbformat": 4,
 "nbformat_minor": 0
}
